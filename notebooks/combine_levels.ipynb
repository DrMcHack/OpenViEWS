{
 "cells": [
  {
   "cell_type": "markdown",
   "metadata": {},
   "source": [
    "# Rescaling predicted probabilities at one level to conform to the predicted probabilities at another  \n",
    "\n",
    "This notebook briefly checks the implications of the methods laid out in the EBMA_levels paper in the ViEWS papers sharelatex project.\n",
    "\n",
    "I find that \n",
    "\n",
    "* Rescaling country probs using grid level probs is not useful (the original country level probs are completely ignored)\n",
    "* Rescaling grid level probs using country level probabilities leads to negative probabilities. \n",
    "\n",
    "## Comments\n",
    "\n",
    "### Country\n",
    "The country level predicted probability is completely determined by the grid level probabilties when it is rescaled. There is no rescaling, grid level completely determines country level in the current methodology. \n",
    "This can be seen empirically in the output: p_c_rescaled is always the same for the same set of grid level probabilities. The country level probability going in (p_c) has no effect.\n",
    "\n",
    "### Grid level\n",
    "Grid level probabilties do satisfy all the conditions laid out in the text but they are sometimes nonsensical with values below zero. "
   ]
  },
  {
   "cell_type": "code",
   "execution_count": 1,
   "metadata": {},
   "outputs": [],
   "source": [
    "import numpy as np \n",
    "import matplotlib.pyplot as plt"
   ]
  },
  {
   "cell_type": "markdown",
   "metadata": {},
   "source": []
  },
  {
   "cell_type": "code",
   "execution_count": 2,
   "metadata": {},
   "outputs": [],
   "source": [
    "def rescale(p_c, p_pg, returns='p'):\n",
    "    \"\"\"Rescale country and grid probabilities to be consistent\n",
    "    \n",
    "    This function applies rescaling to both p_c and p_pg to make them consistent\n",
    "    between each other. The problem is that p_g recieves negative values when p_c\n",
    "    is small and some values of p_g are small. These small values of p_g, when\n",
    "    rescaled, yield negative values.\n",
    "    \n",
    "    Args:\n",
    "        p_c: country probability\n",
    "        p_pg: list of grid level probabilities \n",
    "        returns: 'p' or 'q' for probabilities of 1 (p) vs probability of 0 (q). \n",
    "        \n",
    "    Returns:\n",
    "        p_c, p_pg: probabilties adjusted for each other\n",
    "        \n",
    "    \n",
    "        \"\"\"\n",
    "    \n",
    "    assert returns in ['p', 'q'], \"Supply 'p' or 'q' to returns\"\n",
    "    \n",
    "    p_pg = np.array(p_pg)\n",
    "    \n",
    "    q_c = 1 - p_c \n",
    "    q_pg = 1 - p_pg\n",
    "    N = len(p_pg)\n",
    "    \n",
    "    prod_q_pg = np.prod(q_pg)\n",
    "    \n",
    "    # This was given as \n",
    "    # k = prod_q_pg / q_c\n",
    "    # in the paper, corrected here\n",
    "    k =  q_c / prod_q_pg\n",
    "\n",
    "    k_adjusted_q_c = q_c / k\n",
    "    k_adjusted_p_c = 1 - k_adjusted_q_c\n",
    "    \n",
    "    r = np.exp( (np.log(q_c) - np.sum( np.log(q_pg) )) / N )\n",
    "    r_adjusted_q_pg = r * q_pg\n",
    "    r_adjusted_p_pg = 1 - r_adjusted_q_pg \n",
    "    \n",
    "    assert np.isclose(np.prod(r_adjusted_q_pg),q_c), \"product of r-adjusted grid level probs not close to country prob\"\n",
    "\n",
    "    if returns == 'p':\n",
    "        return k_adjusted_p_c, r_adjusted_p_pg\n",
    "    elif returns == 'q':\n",
    "        return k_adjusted_q_c, r_adjusted_q_pg"
   ]
  },
  {
   "cell_type": "code",
   "execution_count": 3,
   "metadata": {
    "scrolled": true
   },
   "outputs": [
    {
     "name": "stdout",
     "output_type": "stream",
     "text": [
      "p_c: 0.0\n",
      "p_c_rescaled: 0.937\n",
      "p_pg_recaled: [-1.26184232 -0.7592107   0.74868419]\n",
      "p_c: 0.1\n",
      "p_c_rescaled: 0.937\n",
      "p_pg_recaled: [-1.18378475 -0.69849925  0.75735725]\n",
      "p_c: 0.2\n",
      "p_c_rescaled: 0.937\n",
      "p_pg_recaled: [-1.09970841 -0.63310654  0.76669907]\n",
      "p_c: 0.3\n",
      "p_c_rescaled: 0.937\n",
      "p_pg_recaled: [-1.00829885 -0.56201022  0.77685568]\n",
      "p_c: 0.4\n",
      "p_c_rescaled: 0.937\n",
      "p_pg_recaled: [-0.9077117  -0.48377577  0.78803203]\n",
      "p_c: 0.5\n",
      "p_c_rescaled: 0.937\n",
      "p_pg_recaled: [-0.79522544 -0.39628645  0.80053051]\n",
      "p_c: 0.6\n",
      "p_c_rescaled: 0.937\n",
      "p_pg_recaled: [-0.66653967 -0.29619752  0.81482893]\n",
      "p_c: 0.7\n",
      "p_c_rescaled: 0.937\n",
      "p_pg_recaled: [-0.51415178 -0.17767361  0.83176091]\n",
      "p_c: 0.8\n",
      "p_c_rescaled: 0.937\n",
      "p_pg_recaled: [-0.32273341 -0.02879266  0.85302962]\n",
      "p_c: 0.9\n",
      "p_c_rescaled: 0.937\n",
      "p_pg_recaled: [-0.04985421  0.18344673  0.88334953]\n"
     ]
    }
   ],
   "source": [
    "# for country probability in interval 0-1 with .1 steps\n",
    "probs_country = np.arange(0, 1, 0.1)\n",
    "\n",
    "# some extreme grid probs, two low and one high\n",
    "probs_grids = [0.1, 0.3, 0.9]\n",
    "# applying rescaling yields negative probs in grids. \n",
    "# p_pc is probability in country as \n",
    "for p_c in probs_country:\n",
    "    p_c_rescaled, p_pg_rescaled = rescale(p_c, probs_grids, 'p')\n",
    "    print(\"p_c:\", p_c)    \n",
    "    print(\"p_c_rescaled:\", p_c_rescaled)\n",
    "    print(\"p_pg_recaled:\", p_pg_rescaled)\n",
    "    "
   ]
  },
  {
   "cell_type": "markdown",
   "metadata": {},
   "source": [
    "## Verification of p_pg_rescaled back to original p_c\n",
    "By setting the raw input grid level probs to the values from the rescaled grid level probs for  country prob = 0.5, which are\n",
    "\n",
    "[-0.79522544, -0.39628645,  0.80053051]\n",
    "\n",
    "we verify that they yield the input probability p_c_rescaled=0.5\n",
    "Which they do. "
   ]
  },
  {
   "cell_type": "code",
   "execution_count": 4,
   "metadata": {},
   "outputs": [
    {
     "name": "stdout",
     "output_type": "stream",
     "text": [
      "p_c: 0.5\n",
      "p_c_rescaled: 0.500000011024\n",
      "p_pg_recaled: [-0.79522545 -0.39628646  0.80053051]\n",
      "p_c and p_c_rescaled are really close!\n"
     ]
    }
   ],
   "source": [
    "p_c = 0.5\n",
    "probs_grids = [-0.79522544, -0.39628645,  0.80053051]\n",
    "# applying rescaling yields negative probs in grids. \n",
    "# p_pc is probability in country as \n",
    "p_c_rescaled, p_pg_rescaled = rescale(p_c, probs_grids, 'p')\n",
    "print(\"p_c:\", p_c)    \n",
    "print(\"p_c_rescaled:\", p_c_rescaled)\n",
    "print(\"p_pg_recaled:\", p_pg_rescaled)\n",
    "if np.isclose(p_c, p_c_rescaled):\n",
    "    print(\"p_c and p_c_rescaled are really close!\")\n",
    "else:\n",
    "    print(\"p_c and p_c_rescaled are not close\")\n",
    "    "
   ]
  },
  {
   "cell_type": "markdown",
   "metadata": {},
   "source": [
    "## Algebra error in paper\n",
    "\n",
    "There was an algebra error in the first draft of the paper, correction here.\n",
    "\n",
    "$\\hat{q}^c_j = k_j \\prod^{N_j}_{i=1} q_{ij}^{pg}$\n",
    "\n",
    "The $k_j$ that satisfies above is\n",
    "\n",
    "$ k_j = \\frac{\\hat{q}_j^c}{\\prod^{N_j}_{i=1}(\\hat{q}^{pg}_{ij})} $\n"
   ]
  },
  {
   "cell_type": "code",
   "execution_count": null,
   "metadata": {},
   "outputs": [],
   "source": []
  }
 ],
 "metadata": {
  "kernelspec": {
   "display_name": "Python 3",
   "language": "python",
   "name": "python3"
  },
  "language_info": {
   "codemirror_mode": {
    "name": "ipython",
    "version": 3
   },
   "file_extension": ".py",
   "mimetype": "text/x-python",
   "name": "python",
   "nbconvert_exporter": "python",
   "pygments_lexer": "ipython3",
   "version": "3.6.2"
  }
 },
 "nbformat": 4,
 "nbformat_minor": 2
}
